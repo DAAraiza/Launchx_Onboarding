{
 "cells": [
  {
   "cell_type": "markdown",
   "metadata": {},
   "source": [
    "#Mis primeros programas!"
   ]
  },
  {
   "cell_type": "markdown",
   "metadata": {},
   "source": [
    "## Mostrar la fecha de hoy\n",
    "Para mi primer programa utilizare los conceptos vistos en éste módulo para mostrar la fecha del día actual. "
   ]
  },
  {
   "cell_type": "code",
   "execution_count": 12,
   "metadata": {},
   "outputs": [
    {
     "name": "stdout",
     "output_type": "stream",
     "text": [
      "La fecha de hoy es: 2022-02-21\n"
     ]
    }
   ],
   "source": [
    "from datetime import date\n",
    "print(\"La fecha de hoy es:\", date.today())"
   ]
  },
  {
   "cell_type": "markdown",
   "metadata": {},
   "source": [
    "## Convertidor de unidades\n",
    "Ahora construiré un código para convertir parsec a años luz"
   ]
  },
  {
   "cell_type": "code",
   "execution_count": 13,
   "metadata": {},
   "outputs": [
    {
     "name": "stdout",
     "output_type": "stream",
     "text": [
      "Son 32.6156 Años luz\n"
     ]
    }
   ],
   "source": [
    "Light_y = 3.26156\n",
    "\n",
    "Parsec = float(input(\"Cuántos parsecs? \"))\n",
    "\n",
    "print(\"Son\", Light_y * Parsec, \"Años luz\")"
   ]
  }
 ],
 "metadata": {
  "interpreter": {
   "hash": "50fe03c0e8bd014f0ee7208a964514cb21e8b5c2459d2ebcb49ee40a63fbaa99"
  },
  "kernelspec": {
   "display_name": "Python 3.10.2 64-bit",
   "language": "python",
   "name": "python3"
  },
  "language_info": {
   "codemirror_mode": {
    "name": "ipython",
    "version": 3
   },
   "file_extension": ".py",
   "mimetype": "text/x-python",
   "name": "python",
   "nbconvert_exporter": "python",
   "pygments_lexer": "ipython3",
   "version": "3.10.2"
  },
  "orig_nbformat": 4
 },
 "nbformat": 4,
 "nbformat_minor": 2
}
