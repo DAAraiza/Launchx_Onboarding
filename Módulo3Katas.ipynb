{
 "cells": [
  {
   "cell_type": "markdown",
   "metadata": {},
   "source": [
    "## Declaraciones if, else y elif\n",
    "\n",
    "Te permiten ejecutar funciones del código dependiendo de los valores obtenidos.\n",
    "Por ejemplo, si se hace una comparación y se obtiene un True, entonces se ejecutará una función, y si el valor es False, entonces se ejecutará otra totalmente diferente.\n",
    "La estructura de estas declaraciones es:"
   ]
  },
  {
   "cell_type": "code",
   "execution_count": null,
   "metadata": {},
   "outputs": [],
   "source": [
    "if expresion:\n",
    "    #Aquí se colocan las intrucciones a ejecutar si se cumple la condición.\n",
    "    if expresion: #Este es un if anidado.\n",
    "         #Aquí se colocan las intrucciones a ejecutar si se cumple la condición.\n",
    "    else: #Si la condición del if anidado no se cumple se ejecuta este else.\n",
    "         #Aquí se colocan las intrucciones a ejecutar no se cumple la condición.\n",
    "elif expresion: \n",
    "    #Si la condición del if principal no se cumple brinca lo anterior y se ejecuta.\n",
    "else:\n",
    "     #Aquí se colocan las intrucciones a ejecutar no se cumple la condición."
   ]
  },
  {
   "cell_type": "markdown",
   "metadata": {},
   "source": [
    "## Comprueba si un asteroide se acerca\n",
    "Para asegurarnos de que el asteroide que viste no amenace la Tierra, usemos lo anterior."
   ]
  },
  {
   "cell_type": "code",
   "execution_count": 31,
   "metadata": {},
   "outputs": [
    {
     "name": "stdout",
     "output_type": "stream",
     "text": [
      "Comprueba si el asteroide es una amenaza\n",
      "\n",
      "No te preocupes, el asteroide no de riesgo :)\n"
     ]
    }
   ],
   "source": [
    "print(\"Comprueba si el asteroide es una amenaza\\n\")\n",
    "velocidad=int(input(\"Dime la velocidad a la que viaja el asteroide en Km/s:\" )) #Aquí pregunto la velocidad a la que va el asteroide\n",
    "if velocidad > 25: #Aquí se ejecuta la comparación de valores\n",
    "    print(\"Cuidado, el asteroide es peligroso!\") #Si se cumple la condicion se ejecuta esto\n",
    "else:\n",
    "    print(\"No te preocupes, el asteroide no de riesgo :)\") #Si no se cumple se ejecuta esto"
   ]
  },
  {
   "cell_type": "markdown",
   "metadata": {},
   "source": [
    "## Comprueba si se puede ver una luz en el cielo\n",
    "Si un asteroide que se acerca va a más de 20 Km/s se puede ver un brillo en el cielo."
   ]
  },
  {
   "cell_type": "code",
   "execution_count": 36,
   "metadata": {},
   "outputs": [
    {
     "name": "stdout",
     "output_type": "stream",
     "text": [
      "No verás nada :)\n"
     ]
    }
   ],
   "source": [
    "valocidad = 19\n",
    "\n",
    "if velocidad >=20:\n",
    "    print(\"Mira el cielo, podrás ver un resplandor! :0\")\n",
    "\n",
    "else:\n",
    "    print(\"No verás nada :)\")"
   ]
  },
  {
   "cell_type": "markdown",
   "metadata": {},
   "source": [
    "## Operadores and y or\n",
    "Estos operadores sirven para conectar expresiones, para así, comparar varias a la vez.\n",
    "En el caso de and, solo si ambas expresiones son verdaderas se ejecutará el programa.\n",
    "Caso contrario, en el or si una de las expresiones se cumple se ejecutará el programa."
   ]
  },
  {
   "cell_type": "code",
   "execution_count": 35,
   "metadata": {},
   "outputs": [
    {
     "name": "stdout",
     "output_type": "stream",
     "text": [
      "Comprueba si el asteroide es una amenaza\n",
      "\n",
      "No te preocupes, el asteroide no de riesgo :)\n"
     ]
    }
   ],
   "source": [
    "print(\"Comprueba si el asteroide es una amenaza\\n\")\n",
    "velocidad=int(input(\"Dime la velocidad a la que viaja el asteroide en Km/s:\" ))\n",
    "tamano=int(input(\"Dime el tamaño del asteroide en m: \" ))\n",
    "if velocidad > 25 and tamano > 25: \n",
    "    print(\"Cuidado, el asteroide es peligroso!\") \n",
    "else:\n",
    "    if velocidad < 25 or tamano < 25:\n",
    "        if velocidad < 25 and tamano > 25:\n",
    "            print(\"Cuidado, el asteroide es peligroso!\") \n",
    "        else:\n",
    "            print(\"No te preocupes, el asteroide no de riesgo :)\")"
   ]
  }
 ],
 "metadata": {
  "interpreter": {
   "hash": "50fe03c0e8bd014f0ee7208a964514cb21e8b5c2459d2ebcb49ee40a63fbaa99"
  },
  "kernelspec": {
   "display_name": "Python 3.10.2 64-bit",
   "language": "python",
   "name": "python3"
  },
  "language_info": {
   "name": "python",
   "version": "3.10.2"
  },
  "orig_nbformat": 4
 },
 "nbformat": 4,
 "nbformat_minor": 2
}
